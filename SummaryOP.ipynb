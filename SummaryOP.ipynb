{
  "nbformat": 4,
  "nbformat_minor": 0,
  "metadata": {
    "colab": {
      "name": "SummaryOP.ipynb",
      "provenance": []
    },
    "kernelspec": {
      "name": "python3",
      "display_name": "Python 3"
    },
    "language_info": {
      "name": "python"
    }
  },
  "cells": [
    {
      "cell_type": "markdown",
      "source": [
        "# Dataset"
      ],
      "metadata": {
        "id": "Ua53tQGTCpr4"
      }
    },
    {
      "cell_type": "code",
      "execution_count": 4,
      "metadata": {
        "colab": {
          "base_uri": "https://localhost:8080/"
        },
        "id": "f3GE7RzZrhY8",
        "outputId": "f4c69eab-8a77-4c33-a19e-7e6b838b2dd4"
      },
      "outputs": [
        {
          "output_type": "stream",
          "name": "stdout",
          "text": [
            "Requirement already satisfied: kaggle in /usr/local/lib/python3.7/dist-packages (1.5.12)\n",
            "Requirement already satisfied: python-dateutil in /usr/local/lib/python3.7/dist-packages (from kaggle) (2.8.2)\n",
            "Requirement already satisfied: urllib3 in /usr/local/lib/python3.7/dist-packages (from kaggle) (1.24.3)\n",
            "Requirement already satisfied: python-slugify in /usr/local/lib/python3.7/dist-packages (from kaggle) (6.1.1)\n",
            "Requirement already satisfied: tqdm in /usr/local/lib/python3.7/dist-packages (from kaggle) (4.63.0)\n",
            "Requirement already satisfied: requests in /usr/local/lib/python3.7/dist-packages (from kaggle) (2.23.0)\n",
            "Requirement already satisfied: certifi in /usr/local/lib/python3.7/dist-packages (from kaggle) (2021.10.8)\n",
            "Requirement already satisfied: six>=1.10 in /usr/local/lib/python3.7/dist-packages (from kaggle) (1.15.0)\n",
            "Requirement already satisfied: text-unidecode>=1.3 in /usr/local/lib/python3.7/dist-packages (from python-slugify->kaggle) (1.3)\n",
            "Requirement already satisfied: idna<3,>=2.5 in /usr/local/lib/python3.7/dist-packages (from requests->kaggle) (2.10)\n",
            "Requirement already satisfied: chardet<4,>=3.0.2 in /usr/local/lib/python3.7/dist-packages (from requests->kaggle) (3.0.4)\n"
          ]
        }
      ],
      "source": [
        "! pip install kaggle"
      ]
    },
    {
      "cell_type": "code",
      "source": [
        "! mkdir ~/.kaggle"
      ],
      "metadata": {
        "colab": {
          "base_uri": "https://localhost:8080/"
        },
        "id": "okwpPCFGrliP",
        "outputId": "ab1cc5a9-7a92-48eb-8c1c-418afcc4e7b5"
      },
      "execution_count": 5,
      "outputs": [
        {
          "output_type": "stream",
          "name": "stdout",
          "text": [
            "mkdir: cannot create directory ‘/root/.kaggle’: File exists\n"
          ]
        }
      ]
    },
    {
      "cell_type": "code",
      "source": [
        "! cp kaggle.json ~/.kaggle/"
      ],
      "metadata": {
        "id": "t__2U6HErnLU"
      },
      "execution_count": 6,
      "outputs": []
    },
    {
      "cell_type": "code",
      "source": [
        "! chmod 600 ~/.kaggle/kaggle.json"
      ],
      "metadata": {
        "id": "hbmDKEPmrpOA"
      },
      "execution_count": 7,
      "outputs": []
    },
    {
      "cell_type": "code",
      "source": [
        "! kaggle datasets download septa97/100k-courseras-course-reviews-dataset"
      ],
      "metadata": {
        "colab": {
          "base_uri": "https://localhost:8080/"
        },
        "id": "tPxRoI4nrvw2",
        "outputId": "3f1ea2c1-f676-4720-d8d6-fb8799ff8c3d"
      },
      "execution_count": 10,
      "outputs": [
        {
          "output_type": "stream",
          "name": "stdout",
          "text": [
            "Downloading 100k-courseras-course-reviews-dataset.zip to /content\n",
            " 74% 9.00M/12.2M [00:00<00:00, 45.6MB/s]\n",
            "100% 12.2M/12.2M [00:00<00:00, 57.7MB/s]\n"
          ]
        }
      ]
    },
    {
      "cell_type": "code",
      "source": [
        "! unzip 100k-courseras-course-reviews-dataset.zip"
      ],
      "metadata": {
        "colab": {
          "base_uri": "https://localhost:8080/"
        },
        "id": "5EhcyIgRsJY1",
        "outputId": "febcb80e-319b-415b-8ff5-6a7b98cb5295"
      },
      "execution_count": 11,
      "outputs": [
        {
          "output_type": "stream",
          "name": "stdout",
          "text": [
            "Archive:  100k-courseras-course-reviews-dataset.zip\n",
            "  inflating: reviews.csv             \n",
            "  inflating: reviews_by_course.csv   \n"
          ]
        }
      ]
    },
    {
      "cell_type": "code",
      "source": [
        "import numpy as np # linear algebra\n",
        "import pandas as pd # data processing, CSV file I/O (e.g. pd.read_csv)\n",
        "import matplotlib.pyplot as plt\n",
        "import seaborn as sns"
      ],
      "metadata": {
        "id": "TvRaOEQBsUZL"
      },
      "execution_count": 12,
      "outputs": []
    },
    {
      "cell_type": "code",
      "source": [
        "df = pd.read_csv('/content/reviews.csv')\n",
        "df.drop(columns=\"Id\", inplace=True)\n",
        "df"
      ],
      "metadata": {
        "colab": {
          "base_uri": "https://localhost:8080/",
          "height": 423
        },
        "id": "caiFIGEEsPBI",
        "outputId": "573015b0-6976-4cc4-fe1f-f988e890744e"
      },
      "execution_count": 13,
      "outputs": [
        {
          "output_type": "execute_result",
          "data": {
            "text/plain": [
              "                                                   Review  Label\n",
              "0                                    good and interesting      5\n",
              "1       This class is very helpful to me. Currently, I...      5\n",
              "2       like!Prof and TAs are helpful and the discussi...      5\n",
              "3       Easy to follow and includes a lot basic and im...      5\n",
              "4       Really nice teacher!I could got the point eazl...      4\n",
              "...                                                   ...    ...\n",
              "107013  Trendy topic with talks from expertises in the...      4\n",
              "107014  Wonderful! Simple and clear language, good ins...      5\n",
              "107015   an interesting and fun course. thanks. dr quincy      5\n",
              "107016  very broad perspective, up to date information...      4\n",
              "107017  An informative course on the social and financ...      4\n",
              "\n",
              "[107018 rows x 2 columns]"
            ],
            "text/html": [
              "\n",
              "  <div id=\"df-bcee0b8b-292a-4bd3-aa86-2daa2709d600\">\n",
              "    <div class=\"colab-df-container\">\n",
              "      <div>\n",
              "<style scoped>\n",
              "    .dataframe tbody tr th:only-of-type {\n",
              "        vertical-align: middle;\n",
              "    }\n",
              "\n",
              "    .dataframe tbody tr th {\n",
              "        vertical-align: top;\n",
              "    }\n",
              "\n",
              "    .dataframe thead th {\n",
              "        text-align: right;\n",
              "    }\n",
              "</style>\n",
              "<table border=\"1\" class=\"dataframe\">\n",
              "  <thead>\n",
              "    <tr style=\"text-align: right;\">\n",
              "      <th></th>\n",
              "      <th>Review</th>\n",
              "      <th>Label</th>\n",
              "    </tr>\n",
              "  </thead>\n",
              "  <tbody>\n",
              "    <tr>\n",
              "      <th>0</th>\n",
              "      <td>good and interesting</td>\n",
              "      <td>5</td>\n",
              "    </tr>\n",
              "    <tr>\n",
              "      <th>1</th>\n",
              "      <td>This class is very helpful to me. Currently, I...</td>\n",
              "      <td>5</td>\n",
              "    </tr>\n",
              "    <tr>\n",
              "      <th>2</th>\n",
              "      <td>like!Prof and TAs are helpful and the discussi...</td>\n",
              "      <td>5</td>\n",
              "    </tr>\n",
              "    <tr>\n",
              "      <th>3</th>\n",
              "      <td>Easy to follow and includes a lot basic and im...</td>\n",
              "      <td>5</td>\n",
              "    </tr>\n",
              "    <tr>\n",
              "      <th>4</th>\n",
              "      <td>Really nice teacher!I could got the point eazl...</td>\n",
              "      <td>4</td>\n",
              "    </tr>\n",
              "    <tr>\n",
              "      <th>...</th>\n",
              "      <td>...</td>\n",
              "      <td>...</td>\n",
              "    </tr>\n",
              "    <tr>\n",
              "      <th>107013</th>\n",
              "      <td>Trendy topic with talks from expertises in the...</td>\n",
              "      <td>4</td>\n",
              "    </tr>\n",
              "    <tr>\n",
              "      <th>107014</th>\n",
              "      <td>Wonderful! Simple and clear language, good ins...</td>\n",
              "      <td>5</td>\n",
              "    </tr>\n",
              "    <tr>\n",
              "      <th>107015</th>\n",
              "      <td>an interesting and fun course. thanks. dr quincy</td>\n",
              "      <td>5</td>\n",
              "    </tr>\n",
              "    <tr>\n",
              "      <th>107016</th>\n",
              "      <td>very broad perspective, up to date information...</td>\n",
              "      <td>4</td>\n",
              "    </tr>\n",
              "    <tr>\n",
              "      <th>107017</th>\n",
              "      <td>An informative course on the social and financ...</td>\n",
              "      <td>4</td>\n",
              "    </tr>\n",
              "  </tbody>\n",
              "</table>\n",
              "<p>107018 rows × 2 columns</p>\n",
              "</div>\n",
              "      <button class=\"colab-df-convert\" onclick=\"convertToInteractive('df-bcee0b8b-292a-4bd3-aa86-2daa2709d600')\"\n",
              "              title=\"Convert this dataframe to an interactive table.\"\n",
              "              style=\"display:none;\">\n",
              "        \n",
              "  <svg xmlns=\"http://www.w3.org/2000/svg\" height=\"24px\"viewBox=\"0 0 24 24\"\n",
              "       width=\"24px\">\n",
              "    <path d=\"M0 0h24v24H0V0z\" fill=\"none\"/>\n",
              "    <path d=\"M18.56 5.44l.94 2.06.94-2.06 2.06-.94-2.06-.94-.94-2.06-.94 2.06-2.06.94zm-11 1L8.5 8.5l.94-2.06 2.06-.94-2.06-.94L8.5 2.5l-.94 2.06-2.06.94zm10 10l.94 2.06.94-2.06 2.06-.94-2.06-.94-.94-2.06-.94 2.06-2.06.94z\"/><path d=\"M17.41 7.96l-1.37-1.37c-.4-.4-.92-.59-1.43-.59-.52 0-1.04.2-1.43.59L10.3 9.45l-7.72 7.72c-.78.78-.78 2.05 0 2.83L4 21.41c.39.39.9.59 1.41.59.51 0 1.02-.2 1.41-.59l7.78-7.78 2.81-2.81c.8-.78.8-2.07 0-2.86zM5.41 20L4 18.59l7.72-7.72 1.47 1.35L5.41 20z\"/>\n",
              "  </svg>\n",
              "      </button>\n",
              "      \n",
              "  <style>\n",
              "    .colab-df-container {\n",
              "      display:flex;\n",
              "      flex-wrap:wrap;\n",
              "      gap: 12px;\n",
              "    }\n",
              "\n",
              "    .colab-df-convert {\n",
              "      background-color: #E8F0FE;\n",
              "      border: none;\n",
              "      border-radius: 50%;\n",
              "      cursor: pointer;\n",
              "      display: none;\n",
              "      fill: #1967D2;\n",
              "      height: 32px;\n",
              "      padding: 0 0 0 0;\n",
              "      width: 32px;\n",
              "    }\n",
              "\n",
              "    .colab-df-convert:hover {\n",
              "      background-color: #E2EBFA;\n",
              "      box-shadow: 0px 1px 2px rgba(60, 64, 67, 0.3), 0px 1px 3px 1px rgba(60, 64, 67, 0.15);\n",
              "      fill: #174EA6;\n",
              "    }\n",
              "\n",
              "    [theme=dark] .colab-df-convert {\n",
              "      background-color: #3B4455;\n",
              "      fill: #D2E3FC;\n",
              "    }\n",
              "\n",
              "    [theme=dark] .colab-df-convert:hover {\n",
              "      background-color: #434B5C;\n",
              "      box-shadow: 0px 1px 3px 1px rgba(0, 0, 0, 0.15);\n",
              "      filter: drop-shadow(0px 1px 2px rgba(0, 0, 0, 0.3));\n",
              "      fill: #FFFFFF;\n",
              "    }\n",
              "  </style>\n",
              "\n",
              "      <script>\n",
              "        const buttonEl =\n",
              "          document.querySelector('#df-bcee0b8b-292a-4bd3-aa86-2daa2709d600 button.colab-df-convert');\n",
              "        buttonEl.style.display =\n",
              "          google.colab.kernel.accessAllowed ? 'block' : 'none';\n",
              "\n",
              "        async function convertToInteractive(key) {\n",
              "          const element = document.querySelector('#df-bcee0b8b-292a-4bd3-aa86-2daa2709d600');\n",
              "          const dataTable =\n",
              "            await google.colab.kernel.invokeFunction('convertToInteractive',\n",
              "                                                     [key], {});\n",
              "          if (!dataTable) return;\n",
              "\n",
              "          const docLinkHtml = 'Like what you see? Visit the ' +\n",
              "            '<a target=\"_blank\" href=https://colab.research.google.com/notebooks/data_table.ipynb>data table notebook</a>'\n",
              "            + ' to learn more about interactive tables.';\n",
              "          element.innerHTML = '';\n",
              "          dataTable['output_type'] = 'display_data';\n",
              "          await google.colab.output.renderOutput(dataTable, element);\n",
              "          const docLink = document.createElement('div');\n",
              "          docLink.innerHTML = docLinkHtml;\n",
              "          element.appendChild(docLink);\n",
              "        }\n",
              "      </script>\n",
              "    </div>\n",
              "  </div>\n",
              "  "
            ]
          },
          "metadata": {},
          "execution_count": 13
        }
      ]
    },
    {
      "cell_type": "code",
      "source": [
        "#The dataset we're using has over 100k entries (that's a bit too big) so we'll take just a sample of it\n",
        "def reduce_size(x):\n",
        "    if len(x.index) > 30000:\n",
        "        return x.sample(n=int(len(x.index)/3))\n",
        "    elif len(x.index) > 15000:\n",
        "        return x.sample(n=int(len(x.index)/1.5))\n",
        "    else:\n",
        "        return x\n",
        "\n",
        "df = df.groupby('Label').apply(reduce_size).reset_index(drop=True)\n",
        "df['Label'].value_counts()"
      ],
      "metadata": {
        "colab": {
          "base_uri": "https://localhost:8080/"
        },
        "id": "Qul-eJyZ1414",
        "outputId": "4f75e9db-50dc-4d61-81f2-33a349ca0a85"
      },
      "execution_count": 136,
      "outputs": [
        {
          "output_type": "execute_result",
          "data": {
            "text/plain": [
              "5    17594\n",
              "4    12036\n",
              "3     5071\n",
              "1     2469\n",
              "2     2251\n",
              "Name: Label, dtype: int64"
            ]
          },
          "metadata": {},
          "execution_count": 136
        }
      ]
    },
    {
      "cell_type": "code",
      "source": [
        "txt_list=df['Review'].to_list()"
      ],
      "metadata": {
        "id": "TdX4TsTfzvXA"
      },
      "execution_count": 32,
      "outputs": []
    },
    {
      "cell_type": "code",
      "source": [
        "print(len(txt_list))"
      ],
      "metadata": {
        "colab": {
          "base_uri": "https://localhost:8080/"
        },
        "id": "rgYYiU421lHw",
        "outputId": "49ccf9ec-06df-4915-8b28-30f3b08189da"
      },
      "execution_count": 33,
      "outputs": [
        {
          "output_type": "stream",
          "name": "stdout",
          "text": [
            "48218\n"
          ]
        }
      ]
    },
    {
      "cell_type": "markdown",
      "source": [
        "# Text Summarizing"
      ],
      "metadata": {
        "id": "Jqi_rHgdUh9x"
      }
    },
    {
      "cell_type": "code",
      "source": [
        "#To ensure the scrapped textual data is as noise-free as possible, \n",
        "#we’ll perform some basic text cleaning.  To assist us to do the processing, \n",
        "#we’ll import a list of stopwords from the nltk library\n",
        "import nltk\n",
        "from nltk.corpus import stopwords\n",
        "from nltk.stem import PorterStemmer\n",
        "from nltk.tokenize import word_tokenize\n",
        "nltk.download('stopwords')\n",
        "nltk.download('punkt')"
      ],
      "metadata": {
        "colab": {
          "base_uri": "https://localhost:8080/"
        },
        "id": "VVSdNXLnsZHO",
        "outputId": "3a065bd7-fe19-4a2c-ba9a-35a77fe25ab8"
      },
      "execution_count": 145,
      "outputs": [
        {
          "output_type": "stream",
          "name": "stdout",
          "text": [
            "[nltk_data] Downloading package stopwords to /root/nltk_data...\n",
            "[nltk_data]   Package stopwords is already up-to-date!\n",
            "[nltk_data] Downloading package punkt to /root/nltk_data...\n",
            "[nltk_data]   Package punkt is already up-to-date!\n"
          ]
        },
        {
          "output_type": "execute_result",
          "data": {
            "text/plain": [
              "True"
            ]
          },
          "metadata": {},
          "execution_count": 145
        }
      ]
    },
    {
      "cell_type": "code",
      "source": [
        "# Sample sentences tokenizer\n",
        "from nltk.tokenize import word_tokenize, sent_tokenize\n",
        "\n",
        "sentences = sent_tokenize(txt_list[15])\n",
        "print('sentences',sentences)"
      ],
      "metadata": {
        "colab": {
          "base_uri": "https://localhost:8080/"
        },
        "id": "kjSRCFoU3cwl",
        "outputId": "2a1098f7-d480-4461-fb41-d8798e7f1cd4"
      },
      "execution_count": 146,
      "outputs": [
        {
          "output_type": "stream",
          "name": "stdout",
          "text": [
            "sentences [\"is a very very boring curse, don't recommend anyone, please for your good at everyboduy else kill this course, don't embarrass yourself and the universities that represents\"]\n"
          ]
        }
      ]
    },
    {
      "cell_type": "code",
      "source": [
        "#create a dictionary table having the frequency of occurrence of each of the \n",
        "#words in the text. We’ll loop through the text and the corresponding words \n",
        "#to eliminate any stop words.\n",
        "\n",
        "# Removing stop words\n",
        "def _create_dictionary_table(text_string) -> dict:\n",
        "    stop_words = set(stopwords.words(\"english\"))\n",
        "      \n",
        "    words = word_tokenize(text_string)\n",
        "      \n",
        "      # Reducing words to their root form\n",
        "    stem = PorterStemmer()\n",
        "      \n",
        "      # Creating dictionary for the word frequency table\n",
        "    frequency_table = dict()\n",
        "    for wd in words:\n",
        "      wd = stem.stem(wd)\n",
        "      if wd in stop_words:\n",
        "        continue\n",
        "      if wd in frequency_table:\n",
        "        frequency_table[wd] += 1\n",
        "      else:\n",
        "        frequency_table[wd] = 1\n",
        "    return(frequency_table)"
      ],
      "metadata": {
        "id": "ZP4I4LEQzWrp"
      },
      "execution_count": 147,
      "outputs": []
    },
    {
      "cell_type": "markdown",
      "source": [
        "To evaluate the score for every sentence in the text, we’ll be analyzing the frequency of occurrence of each term. In this case, we’ll be scoring each sentence by its words; that is, adding the frequency of each important word found in the sentence."
      ],
      "metadata": {
        "id": "TujaXKPpUTdQ"
      }
    },
    {
      "cell_type": "code",
      "source": [
        "# Finding the weighted frequencies of the sentences\n",
        "def _calculate_sentence_scores(sentences, frequency_table) -> dict:   \n",
        "\n",
        "    # Algorithm for scoring a sentence by its words\n",
        "    sentence_weight = dict()\n",
        "\n",
        "    for sentence in sentences:\n",
        "        sentence_wordcount = (len(word_tokenize(sentence)))\n",
        "        sentence_wordcount_without_stop_words = 0\n",
        "        for word_weight in frequency_table:\n",
        "            if word_weight in sentence.lower():\n",
        "                sentence_wordcount_without_stop_words += 1\n",
        "                if sentence[:7] in sentence_weight:\n",
        "                    sentence_weight[sentence[:7]] += frequency_table[word_weight]\n",
        "                else:\n",
        "                    sentence_weight[sentence[:7]] = frequency_table[word_weight]\n",
        "\n",
        "        sentence_weight[sentence[:7]] = sentence_weight[sentence[:7]] /        sentence_wordcount_without_stop_words\n",
        "      \n",
        "    return sentence_weight\n",
        "\n",
        "#Importantly, to ensure long sentences do not have unnecessarily high scores \n",
        "#over short sentences, we divided each score of a sentence by the number of words \n",
        "#found in that sentence. Also, to optimize the dictionary’s memory, we \n",
        "#arbitrarily added sentence[:7], which refers to the first 7 characters in each sentence."
      ],
      "metadata": {
        "id": "7k_KNW6G4syM"
      },
      "execution_count": 148,
      "outputs": []
    },
    {
      "cell_type": "markdown",
      "source": [
        "To further tweak the kind of sentences eligible for summarization, we’ll create the average score for the sentences. With this threshold, we can avoid selecting the sentences with a lower score than the average score."
      ],
      "metadata": {
        "id": "jvI7CPDSVEgZ"
      }
    },
    {
      "cell_type": "code",
      "source": [
        "#Calculating the threshold of the sentences\n",
        "def _calculate_average_score(sentence_weight) -> int:\n",
        "   \n",
        "    #calculating the average score for the sentences\n",
        "    sum_values = 0\n",
        "    for entry in sentence_weight:\n",
        "        sum_values += sentence_weight[entry]\n",
        "\n",
        "    #getting sentence average value from source text\n",
        "    average_score = (sum_values / len(sentence_weight))\n",
        "\n",
        "    return average_score"
      ],
      "metadata": {
        "id": "u7jg6Jsg5RgW"
      },
      "execution_count": 149,
      "outputs": []
    },
    {
      "cell_type": "code",
      "source": [
        "# Getting the summary\n",
        "def _get_article_summary(sentences, sentence_weight, threshold):\n",
        "    sentence_counter = 0\n",
        "    article_summary = ''\n",
        "    # generate summary \n",
        "    for sentence in sentences:\n",
        "        if sentence[:7] in sentence_weight and sentence_weight[sentence[:7]] >= (threshold):\n",
        "            article_summary += \" \" + sentence\n",
        "            sentence_counter += 1\n",
        "\n",
        "    return article_summary"
      ],
      "metadata": {
        "id": "B2yJVR665ZZC"
      },
      "execution_count": 150,
      "outputs": []
    },
    {
      "cell_type": "code",
      "source": [
        "def _run_article_summary(article):\n",
        "    \n",
        "    #creating a dictionary for the word frequency table\n",
        "    frequency_table = _create_dictionary_table(article)\n",
        "\n",
        "    #tokenizing the sentences\n",
        "    sentences = sent_tokenize(article)\n",
        "\n",
        "    #algorithm for scoring a sentence by its words\n",
        "    sentence_scores = _calculate_sentence_scores(sentences, frequency_table)\n",
        "\n",
        "    #getting the threshold\n",
        "    threshold = _calculate_average_score(sentence_scores)\n",
        "\n",
        "    #producing the summary\n",
        "    article_summary = _get_article_summary(sentences, sentence_scores, 1.00 * threshold)\n",
        "\n",
        "    return article_summary"
      ],
      "metadata": {
        "id": "0evRf-wW5blc"
      },
      "execution_count": 151,
      "outputs": []
    },
    {
      "cell_type": "code",
      "source": [
        "# limit the length of content so that the text summarization is more obvious.\n",
        "content=[]\n",
        "for i in range(len(txt_list)):\n",
        "  if len(txt_list[i])>88:\n",
        "    content.append(txt_list[i])\n"
      ],
      "metadata": {
        "id": "J08pxTNq8sf3"
      },
      "execution_count": 152,
      "outputs": []
    },
    {
      "cell_type": "code",
      "source": [
        "# Since we added sentence[:7] for optimizing dict memory, the larger dataset will\n",
        "# cause error.\n",
        "result=[]\n",
        "for i in range(0,2073):\n",
        "  summary_results = _run_article_summary(content[i])\n",
        "  #print(summary_results)\n",
        "  result.append(summary_results)"
      ],
      "metadata": {
        "id": "1I6P4Se_8aNm"
      },
      "execution_count": 153,
      "outputs": []
    },
    {
      "cell_type": "code",
      "source": [
        "# Form a dataframe for a better view of effect of text summarization.\n",
        "content_new=content[0:2073]\n",
        "new_df=pd.DataFrame({'before': content_new,\n",
        "     'after': result\n",
        "    })"
      ],
      "metadata": {
        "id": "Ll60r-asArvT"
      },
      "execution_count": 154,
      "outputs": []
    },
    {
      "cell_type": "code",
      "source": [
        "new_df"
      ],
      "metadata": {
        "colab": {
          "base_uri": "https://localhost:8080/",
          "height": 2226
        },
        "id": "MZ2_x4dKBHeW",
        "outputId": "bb3adbde-51c1-4c2f-8494-76ce07efbf16"
      },
      "execution_count": 155,
      "outputs": [
        {
          "output_type": "execute_result",
          "data": {
            "text/plain": [
              "                                                 before  \\\n",
              "0     This course doesn't contain any new informatio...   \n",
              "1     I do not find very interesting this course. to...   \n",
              "2     This course doesn't contain any new informatio...   \n",
              "3     First of all, I really enjoyed Professor Ittne...   \n",
              "4     No practical knowledge learnd and no clear exa...   \n",
              "...                                                 ...   \n",
              "2068  It is too small and shallow. Whole specializat...   \n",
              "2069  The content is OK, but that's about it. Near z...   \n",
              "2070  The quizzes are not set up correctly and you g...   \n",
              "2071  the course really covered information I knew b...   \n",
              "2072  Amy Blooms assignments were so complicated and...   \n",
              "\n",
              "                                                  after  \n",
              "0      This course doesn't contain any new information.  \n",
              "1                                  too many interviews.  \n",
              "2      This course doesn't contain any new information.  \n",
              "3      First of all, I really enjoyed Professor Ittn...  \n",
              "4      No practical knowledge learnd and no clear ex...  \n",
              "...                                                 ...  \n",
              "2068                       It is too small and shallow.  \n",
              "2069   The content is OK, but that's about it. Stude...  \n",
              "2070   The content is good and that is why I gave it...  \n",
              "2071   the course really covered information I knew ...  \n",
              "2072   The lectures didn't particularly hold me , ei...  \n",
              "\n",
              "[2073 rows x 2 columns]"
            ],
            "text/html": [
              "\n",
              "  <div id=\"df-bd97df2e-6d52-472f-ba5e-afe1c78d87eb\">\n",
              "    <div class=\"colab-df-container\">\n",
              "      <div>\n",
              "<style scoped>\n",
              "    .dataframe tbody tr th:only-of-type {\n",
              "        vertical-align: middle;\n",
              "    }\n",
              "\n",
              "    .dataframe tbody tr th {\n",
              "        vertical-align: top;\n",
              "    }\n",
              "\n",
              "    .dataframe thead th {\n",
              "        text-align: right;\n",
              "    }\n",
              "</style>\n",
              "<table border=\"1\" class=\"dataframe\">\n",
              "  <thead>\n",
              "    <tr style=\"text-align: right;\">\n",
              "      <th></th>\n",
              "      <th>before</th>\n",
              "      <th>after</th>\n",
              "    </tr>\n",
              "  </thead>\n",
              "  <tbody>\n",
              "    <tr>\n",
              "      <th>0</th>\n",
              "      <td>This course doesn't contain any new informatio...</td>\n",
              "      <td>This course doesn't contain any new information.</td>\n",
              "    </tr>\n",
              "    <tr>\n",
              "      <th>1</th>\n",
              "      <td>I do not find very interesting this course. to...</td>\n",
              "      <td>too many interviews.</td>\n",
              "    </tr>\n",
              "    <tr>\n",
              "      <th>2</th>\n",
              "      <td>This course doesn't contain any new informatio...</td>\n",
              "      <td>This course doesn't contain any new information.</td>\n",
              "    </tr>\n",
              "    <tr>\n",
              "      <th>3</th>\n",
              "      <td>First of all, I really enjoyed Professor Ittne...</td>\n",
              "      <td>First of all, I really enjoyed Professor Ittn...</td>\n",
              "    </tr>\n",
              "    <tr>\n",
              "      <th>4</th>\n",
              "      <td>No practical knowledge learnd and no clear exa...</td>\n",
              "      <td>No practical knowledge learnd and no clear ex...</td>\n",
              "    </tr>\n",
              "    <tr>\n",
              "      <th>...</th>\n",
              "      <td>...</td>\n",
              "      <td>...</td>\n",
              "    </tr>\n",
              "    <tr>\n",
              "      <th>2068</th>\n",
              "      <td>It is too small and shallow. Whole specializat...</td>\n",
              "      <td>It is too small and shallow.</td>\n",
              "    </tr>\n",
              "    <tr>\n",
              "      <th>2069</th>\n",
              "      <td>The content is OK, but that's about it. Near z...</td>\n",
              "      <td>The content is OK, but that's about it. Stude...</td>\n",
              "    </tr>\n",
              "    <tr>\n",
              "      <th>2070</th>\n",
              "      <td>The quizzes are not set up correctly and you g...</td>\n",
              "      <td>The content is good and that is why I gave it...</td>\n",
              "    </tr>\n",
              "    <tr>\n",
              "      <th>2071</th>\n",
              "      <td>the course really covered information I knew b...</td>\n",
              "      <td>the course really covered information I knew ...</td>\n",
              "    </tr>\n",
              "    <tr>\n",
              "      <th>2072</th>\n",
              "      <td>Amy Blooms assignments were so complicated and...</td>\n",
              "      <td>The lectures didn't particularly hold me , ei...</td>\n",
              "    </tr>\n",
              "  </tbody>\n",
              "</table>\n",
              "<p>2073 rows × 2 columns</p>\n",
              "</div>\n",
              "      <button class=\"colab-df-convert\" onclick=\"convertToInteractive('df-bd97df2e-6d52-472f-ba5e-afe1c78d87eb')\"\n",
              "              title=\"Convert this dataframe to an interactive table.\"\n",
              "              style=\"display:none;\">\n",
              "        \n",
              "  <svg xmlns=\"http://www.w3.org/2000/svg\" height=\"24px\"viewBox=\"0 0 24 24\"\n",
              "       width=\"24px\">\n",
              "    <path d=\"M0 0h24v24H0V0z\" fill=\"none\"/>\n",
              "    <path d=\"M18.56 5.44l.94 2.06.94-2.06 2.06-.94-2.06-.94-.94-2.06-.94 2.06-2.06.94zm-11 1L8.5 8.5l.94-2.06 2.06-.94-2.06-.94L8.5 2.5l-.94 2.06-2.06.94zm10 10l.94 2.06.94-2.06 2.06-.94-2.06-.94-.94-2.06-.94 2.06-2.06.94z\"/><path d=\"M17.41 7.96l-1.37-1.37c-.4-.4-.92-.59-1.43-.59-.52 0-1.04.2-1.43.59L10.3 9.45l-7.72 7.72c-.78.78-.78 2.05 0 2.83L4 21.41c.39.39.9.59 1.41.59.51 0 1.02-.2 1.41-.59l7.78-7.78 2.81-2.81c.8-.78.8-2.07 0-2.86zM5.41 20L4 18.59l7.72-7.72 1.47 1.35L5.41 20z\"/>\n",
              "  </svg>\n",
              "      </button>\n",
              "      \n",
              "  <style>\n",
              "    .colab-df-container {\n",
              "      display:flex;\n",
              "      flex-wrap:wrap;\n",
              "      gap: 12px;\n",
              "    }\n",
              "\n",
              "    .colab-df-convert {\n",
              "      background-color: #E8F0FE;\n",
              "      border: none;\n",
              "      border-radius: 50%;\n",
              "      cursor: pointer;\n",
              "      display: none;\n",
              "      fill: #1967D2;\n",
              "      height: 32px;\n",
              "      padding: 0 0 0 0;\n",
              "      width: 32px;\n",
              "    }\n",
              "\n",
              "    .colab-df-convert:hover {\n",
              "      background-color: #E2EBFA;\n",
              "      box-shadow: 0px 1px 2px rgba(60, 64, 67, 0.3), 0px 1px 3px 1px rgba(60, 64, 67, 0.15);\n",
              "      fill: #174EA6;\n",
              "    }\n",
              "\n",
              "    [theme=dark] .colab-df-convert {\n",
              "      background-color: #3B4455;\n",
              "      fill: #D2E3FC;\n",
              "    }\n",
              "\n",
              "    [theme=dark] .colab-df-convert:hover {\n",
              "      background-color: #434B5C;\n",
              "      box-shadow: 0px 1px 3px 1px rgba(0, 0, 0, 0.15);\n",
              "      filter: drop-shadow(0px 1px 2px rgba(0, 0, 0, 0.3));\n",
              "      fill: #FFFFFF;\n",
              "    }\n",
              "  </style>\n",
              "\n",
              "      <script>\n",
              "        const buttonEl =\n",
              "          document.querySelector('#df-bd97df2e-6d52-472f-ba5e-afe1c78d87eb button.colab-df-convert');\n",
              "        buttonEl.style.display =\n",
              "          google.colab.kernel.accessAllowed ? 'block' : 'none';\n",
              "\n",
              "        async function convertToInteractive(key) {\n",
              "          const element = document.querySelector('#df-bd97df2e-6d52-472f-ba5e-afe1c78d87eb');\n",
              "          const dataTable =\n",
              "            await google.colab.kernel.invokeFunction('convertToInteractive',\n",
              "                                                     [key], {});\n",
              "          if (!dataTable) return;\n",
              "\n",
              "          const docLinkHtml = 'Like what you see? Visit the ' +\n",
              "            '<a target=\"_blank\" href=https://colab.research.google.com/notebooks/data_table.ipynb>data table notebook</a>'\n",
              "            + ' to learn more about interactive tables.';\n",
              "          element.innerHTML = '';\n",
              "          dataTable['output_type'] = 'display_data';\n",
              "          await google.colab.output.renderOutput(dataTable, element);\n",
              "          const docLink = document.createElement('div');\n",
              "          docLink.innerHTML = docLinkHtml;\n",
              "          element.appendChild(docLink);\n",
              "        }\n",
              "      </script>\n",
              "    </div>\n",
              "  </div>\n",
              "  "
            ]
          },
          "metadata": {},
          "execution_count": 155
        }
      ]
    }
  ]
}